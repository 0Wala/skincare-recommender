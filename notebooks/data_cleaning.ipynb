{
 "cells": [
  {
   "cell_type": "code",
   "execution_count": 5,
   "id": "0fc01124-da2c-4350-b218-ef4fb57c1926",
   "metadata": {},
   "outputs": [
    {
     "name": "stdout",
     "output_type": "stream",
     "text": [
      "                                        product_name  \\\n",
      "0  The Ordinary Natural Moisturising Factors + HA...   \n",
      "1      CeraVe Facial Moisturising Lotion SPF 25 52ml   \n",
      "2  The Ordinary Hyaluronic Acid 2% + B5 Hydration...   \n",
      "3          AMELIORATE Transforming Body Lotion 200ml   \n",
      "4                     CeraVe Moisturising Cream 454g   \n",
      "\n",
      "                                         product_url product_type  \\\n",
      "0  https://www.lookfantastic.com/the-ordinary-nat...  Moisturizer   \n",
      "1  https://www.lookfantastic.com/cerave-facial-mo...  Moisturizer   \n",
      "2  https://www.lookfantastic.com/the-ordinary-hya...  Moisturizer   \n",
      "3  https://www.lookfantastic.com/ameliorate-trans...  Moisturizer   \n",
      "4  https://www.lookfantastic.com/cerave-moisturis...  Moisturizer   \n",
      "\n",
      "                                         ingredients  price_ksh  \\\n",
      "0  Aqua (Water), Caprylic/Capric Triglyceride, Ce...       1040   \n",
      "1  Aqua/Water, Homosalate, Glycerin, Octocrylene,...       2700   \n",
      "2  Aqua (Water), Sodium Hyaluronate, Sodium Hyalu...       1240   \n",
      "3  Aqua/Water/Eau, Ammonium Lactate, C12-15 Alkyl...       4500   \n",
      "4  Purified Water, Glycerin, Ceteareth-20 and Cet...       3200   \n",
      "\n",
      "                skin_type                                           concerns  \n",
      "0  normal, dry, sensitive  dryness, damaged skin barrier, uneven skin tex...  \n",
      "1             normal, dry          dryness, damaged skin barrier, sun damage  \n",
      "2  normal, dry, sensitive  dryness, damaged skin barrier, fine lines and ...  \n",
      "3             normal, dry           irritation, uneven skin texture, dryness  \n",
      "4                     dry                      dryness, damaged skin barrier  \n"
     ]
    }
   ],
   "source": [
    "import pandas as pd\n",
    "\n",
    "df = pd.read_csv(\"C:/Users/Beth Angela/Desktop/skincare.csv\")\n",
    "\n",
    "print(df.head())"
   ]
  },
  {
   "cell_type": "code",
   "execution_count": 6,
   "id": "5a404301-410c-4ebd-86d8-82a9992d2c47",
   "metadata": {},
   "outputs": [
    {
     "name": "stdout",
     "output_type": "stream",
     "text": [
      "Column names:\n",
      " Index(['product_name', 'product_url', 'product_type', 'ingredients',\n",
      "       'price_ksh', 'skin_type', 'concerns'],\n",
      "      dtype='object')\n"
     ]
    }
   ],
   "source": [
    "print(\"Column names:\\n\", df.columns)"
   ]
  },
  {
   "cell_type": "code",
   "execution_count": 7,
   "id": "77bd8949-bfa7-47d4-b549-201aa459756c",
   "metadata": {},
   "outputs": [
    {
     "name": "stdout",
     "output_type": "stream",
     "text": [
      "\n",
      "Missing values per column:\n",
      " product_name    0\n",
      "product_url     0\n",
      "product_type    0\n",
      "ingredients     0\n",
      "price_ksh       0\n",
      "skin_type       0\n",
      "concerns        0\n",
      "dtype: int64\n"
     ]
    }
   ],
   "source": [
    "print(\"\\nMissing values per column:\\n\", df.isnull().sum())"
   ]
  },
  {
   "cell_type": "code",
   "execution_count": 8,
   "id": "1cd99e6f-3d4a-48df-b00f-0e50620a3e18",
   "metadata": {},
   "outputs": [
    {
     "name": "stdout",
     "output_type": "stream",
     "text": [
      "['normal, dry, sensitive' 'normal, dry' 'dry' 'dry, sensitive'\n",
      " 'dry, combination' 'oily, sensitive' 'oily, combination, sensitive'\n",
      " 'normal, combination, sensitive' 'normal, dry, combination'\n",
      " 'normal, oily, sensitive' 'normal, dry, combination, sensitive'\n",
      " 'normal, dry, oily' 'normal, combination, dry'\n",
      " 'normal, oily, combination,  sensitive'\n",
      " 'normal, oily, dry, combination, sensitive' 'normal, sensitive'\n",
      " 'oily, combination' 'sensitive, dry' 'normal, oily, dry, combination'\n",
      " 'oily' 'normal, combination' 'sensitive' 'normal, oily, combination'\n",
      " 'normal, oily, combination, dry'\n",
      " 'normal, oily, combination, dry, sensitive' 'combination'\n",
      " 'dry, combination, oily' 'combination, oily' 'normal,dry' 'normal, oily'\n",
      " 'sensitive, combination' 'normal, oily, combination, dry , sensitive'\n",
      " 'normal ,oily, combination, dry, sensitive' 'dry,sensitive' 'dry, oily'\n",
      " 'normal' 'normal, dry, oily, combination , sensitive'\n",
      " 'normal, dry, oily, sensitive']\n",
      "['Moisturizer' 'Serum' 'Eye Care' 'Face Mask' 'Cleanser' 'Toner'\n",
      " 'Face scrub' 'suncreen']\n",
      "0    dryness, damaged skin barrier, uneven skin tex...\n",
      "1            dryness, damaged skin barrier, sun damage\n",
      "2    dryness, damaged skin barrier, fine lines and ...\n",
      "3             irritation, uneven skin texture, dryness\n",
      "4                        dryness, damaged skin barrier\n",
      "5                        dryness, damaged skin barrier\n",
      "6            dryness, damaged skin barrier, irritation\n",
      "7    dryness, damaged skin barrier, uneven skin tex...\n",
      "8    dryness, damaged skin barrier, uneven skin tex...\n",
      "9         dryness, fine lines and wrinkles, irritation\n",
      "Name: concerns, dtype: object\n"
     ]
    }
   ],
   "source": [
    "print(df['skin_type'].unique())\n",
    "print(df['product_type'].unique())\n",
    "print(df['concerns'].head(10))\n"
   ]
  },
  {
   "cell_type": "code",
   "execution_count": 9,
   "id": "ff4e0500-2dde-4fa0-9638-6f3b4871a9a9",
   "metadata": {},
   "outputs": [],
   "source": [
    "df['skin_type_list'] = df['skin_type'].apply(lambda x: [i.strip().lower() for i in x.split(',')])\n"
   ]
  },
  {
   "cell_type": "code",
   "execution_count": 10,
   "id": "2b68c285-1580-40fc-9ea9-c013494e5cae",
   "metadata": {},
   "outputs": [],
   "source": [
    "df['concerns_list'] = df['concerns'].apply(lambda x: [i.strip().lower() for i in x.split(',')])\n"
   ]
  },
  {
   "cell_type": "code",
   "execution_count": 11,
   "id": "15f5f402-15f2-4d9d-a672-aa2d77d6056d",
   "metadata": {},
   "outputs": [
    {
     "data": {
      "text/html": [
       "<div>\n",
       "<style scoped>\n",
       "    .dataframe tbody tr th:only-of-type {\n",
       "        vertical-align: middle;\n",
       "    }\n",
       "\n",
       "    .dataframe tbody tr th {\n",
       "        vertical-align: top;\n",
       "    }\n",
       "\n",
       "    .dataframe thead th {\n",
       "        text-align: right;\n",
       "    }\n",
       "</style>\n",
       "<table border=\"1\" class=\"dataframe\">\n",
       "  <thead>\n",
       "    <tr style=\"text-align: right;\">\n",
       "      <th></th>\n",
       "      <th>skin_type</th>\n",
       "      <th>skin_type_list</th>\n",
       "      <th>concerns_list</th>\n",
       "    </tr>\n",
       "  </thead>\n",
       "  <tbody>\n",
       "    <tr>\n",
       "      <th>0</th>\n",
       "      <td>normal, dry, sensitive</td>\n",
       "      <td>[normal, dry, sensitive]</td>\n",
       "      <td>[dryness, damaged skin barrier, uneven skin te...</td>\n",
       "    </tr>\n",
       "    <tr>\n",
       "      <th>1</th>\n",
       "      <td>normal, dry</td>\n",
       "      <td>[normal, dry]</td>\n",
       "      <td>[dryness, damaged skin barrier, sun damage]</td>\n",
       "    </tr>\n",
       "    <tr>\n",
       "      <th>2</th>\n",
       "      <td>normal, dry, sensitive</td>\n",
       "      <td>[normal, dry, sensitive]</td>\n",
       "      <td>[dryness, damaged skin barrier, fine lines and...</td>\n",
       "    </tr>\n",
       "    <tr>\n",
       "      <th>3</th>\n",
       "      <td>normal, dry</td>\n",
       "      <td>[normal, dry]</td>\n",
       "      <td>[irritation, uneven skin texture, dryness]</td>\n",
       "    </tr>\n",
       "    <tr>\n",
       "      <th>4</th>\n",
       "      <td>dry</td>\n",
       "      <td>[dry]</td>\n",
       "      <td>[dryness, damaged skin barrier]</td>\n",
       "    </tr>\n",
       "  </tbody>\n",
       "</table>\n",
       "</div>"
      ],
      "text/plain": [
       "                skin_type            skin_type_list  \\\n",
       "0  normal, dry, sensitive  [normal, dry, sensitive]   \n",
       "1             normal, dry             [normal, dry]   \n",
       "2  normal, dry, sensitive  [normal, dry, sensitive]   \n",
       "3             normal, dry             [normal, dry]   \n",
       "4                     dry                     [dry]   \n",
       "\n",
       "                                       concerns_list  \n",
       "0  [dryness, damaged skin barrier, uneven skin te...  \n",
       "1        [dryness, damaged skin barrier, sun damage]  \n",
       "2  [dryness, damaged skin barrier, fine lines and...  \n",
       "3         [irritation, uneven skin texture, dryness]  \n",
       "4                    [dryness, damaged skin barrier]  "
      ]
     },
     "execution_count": 11,
     "metadata": {},
     "output_type": "execute_result"
    }
   ],
   "source": [
    "df[['skin_type', 'skin_type_list', 'concerns_list']].head()\n"
   ]
  },
  {
   "cell_type": "code",
   "execution_count": 12,
   "id": "18af4849-09c5-4d3c-b35e-5e37b47da61b",
   "metadata": {},
   "outputs": [],
   "source": [
    "user_skin_type = \"dry\"\n",
    "user_concern = \"dryness\"\n",
    "\n",
    "recommendations = df[\n",
    "    df['skin_type_list'].apply(lambda x: user_skin_type in x) &\n",
    "    df['concerns_list'].apply(lambda x: user_concern in x)\n",
    "]\n"
   ]
  },
  {
   "cell_type": "code",
   "execution_count": 13,
   "id": "7143e1e3-4a55-42a8-91cd-56ae37d86d2c",
   "metadata": {},
   "outputs": [
    {
     "name": "stdout",
     "output_type": "stream",
     "text": [
      "Skin type distribution:\n",
      " Counter({'dry': 455, 'oily': 433, 'normal': 432, 'combination': 423, 'sensitive': 342})\n"
     ]
    }
   ],
   "source": [
    "from collections import Counter\n",
    "\n",
    "# Flatten the list of skin types and count occurrences\n",
    "skin_type_counter = Counter([stype.strip() for sublist in df['skin_type_list'] for stype in sublist])\n",
    "print(\"Skin type distribution:\\n\", skin_type_counter)\n"
   ]
  },
  {
   "cell_type": "code",
   "execution_count": 14,
   "id": "b2feee88-1a94-4545-aad2-18a19fc27581",
   "metadata": {},
   "outputs": [
    {
     "name": "stdout",
     "output_type": "stream",
     "text": [
      "\n",
      "Skin concern distribution:\n",
      " Counter({'dryness': 407, 'dullness': 267, 'fine lines and wrinkles': 179, 'uneven skin texture': 178, 'irritation': 142, 'excess oil': 141, 'clogged pores': 122, 'hyperpigmentation': 74, 'damaged skin barrier': 70, 'puffiness': 67, 'sagging': 64, 'dark circles': 60, 'acne': 54, 'redness': 46, 'sun damage': 30, 'enlarged pores': 13, 'stretch marks': 6, 'anti-bacterial': 1, '': 1})\n"
     ]
    }
   ],
   "source": [
    "concerns_counter = Counter([c.strip() for sublist in df['concerns_list'] for c in sublist])\n",
    "print(\"\\nSkin concern distribution:\\n\", concerns_counter)\n"
   ]
  },
  {
   "cell_type": "code",
   "execution_count": 17,
   "id": "96442d50-81d7-4547-9590-e4ed6a2b2e82",
   "metadata": {},
   "outputs": [],
   "source": [
    "def recommend_products(skin_type, concern, top_n=5):\n",
    "    filtered_df = df[\n",
    "        df['skin_type_list'].apply(lambda x: skin_type.lower() in [s.lower() for s in x]) &\n",
    "        df['concerns_list'].apply(lambda x: concern.lower() in [c.lower() for c in x])\n",
    "    ]\n",
    "    \n",
    "    if filtered_df.empty:\n",
    "        return \"No products found for your selection.\"\n",
    "    \n",
    "    return filtered_df[['product_name', 'product_type', 'price_ksh']].head(top_n)\n"
   ]
  },
  {
   "cell_type": "code",
   "execution_count": 18,
   "id": "0905419f-b6dc-49b0-beb3-2d0867477719",
   "metadata": {},
   "outputs": [
    {
     "data": {
      "text/html": [
       "<div>\n",
       "<style scoped>\n",
       "    .dataframe tbody tr th:only-of-type {\n",
       "        vertical-align: middle;\n",
       "    }\n",
       "\n",
       "    .dataframe tbody tr th {\n",
       "        vertical-align: top;\n",
       "    }\n",
       "\n",
       "    .dataframe thead th {\n",
       "        text-align: right;\n",
       "    }\n",
       "</style>\n",
       "<table border=\"1\" class=\"dataframe\">\n",
       "  <thead>\n",
       "    <tr style=\"text-align: right;\">\n",
       "      <th></th>\n",
       "      <th>product_name</th>\n",
       "      <th>product_type</th>\n",
       "      <th>price_ksh</th>\n",
       "    </tr>\n",
       "  </thead>\n",
       "  <tbody>\n",
       "    <tr>\n",
       "      <th>0</th>\n",
       "      <td>The Ordinary Natural Moisturising Factors + HA...</td>\n",
       "      <td>Moisturizer</td>\n",
       "      <td>1040</td>\n",
       "    </tr>\n",
       "    <tr>\n",
       "      <th>1</th>\n",
       "      <td>CeraVe Facial Moisturising Lotion SPF 25 52ml</td>\n",
       "      <td>Moisturizer</td>\n",
       "      <td>2700</td>\n",
       "    </tr>\n",
       "    <tr>\n",
       "      <th>2</th>\n",
       "      <td>The Ordinary Hyaluronic Acid 2% + B5 Hydration...</td>\n",
       "      <td>Moisturizer</td>\n",
       "      <td>1240</td>\n",
       "    </tr>\n",
       "    <tr>\n",
       "      <th>3</th>\n",
       "      <td>AMELIORATE Transforming Body Lotion 200ml</td>\n",
       "      <td>Moisturizer</td>\n",
       "      <td>4500</td>\n",
       "    </tr>\n",
       "    <tr>\n",
       "      <th>4</th>\n",
       "      <td>CeraVe Moisturising Cream 454g</td>\n",
       "      <td>Moisturizer</td>\n",
       "      <td>3200</td>\n",
       "    </tr>\n",
       "  </tbody>\n",
       "</table>\n",
       "</div>"
      ],
      "text/plain": [
       "                                        product_name product_type  price_ksh\n",
       "0  The Ordinary Natural Moisturising Factors + HA...  Moisturizer       1040\n",
       "1      CeraVe Facial Moisturising Lotion SPF 25 52ml  Moisturizer       2700\n",
       "2  The Ordinary Hyaluronic Acid 2% + B5 Hydration...  Moisturizer       1240\n",
       "3          AMELIORATE Transforming Body Lotion 200ml  Moisturizer       4500\n",
       "4                     CeraVe Moisturising Cream 454g  Moisturizer       3200"
      ]
     },
     "execution_count": 18,
     "metadata": {},
     "output_type": "execute_result"
    }
   ],
   "source": [
    "recommend_products(\"dry\", \"dryness\")\n",
    "\n"
   ]
  },
  {
   "cell_type": "code",
   "execution_count": 19,
   "id": "1dfd70e7-96fa-448a-9146-2c10d398b2c2",
   "metadata": {},
   "outputs": [
    {
     "data": {
      "text/html": [
       "<div>\n",
       "<style scoped>\n",
       "    .dataframe tbody tr th:only-of-type {\n",
       "        vertical-align: middle;\n",
       "    }\n",
       "\n",
       "    .dataframe tbody tr th {\n",
       "        vertical-align: top;\n",
       "    }\n",
       "\n",
       "    .dataframe thead th {\n",
       "        text-align: right;\n",
       "    }\n",
       "</style>\n",
       "<table border=\"1\" class=\"dataframe\">\n",
       "  <thead>\n",
       "    <tr style=\"text-align: right;\">\n",
       "      <th></th>\n",
       "      <th>product_name</th>\n",
       "      <th>product_type</th>\n",
       "      <th>price_ksh</th>\n",
       "    </tr>\n",
       "  </thead>\n",
       "  <tbody>\n",
       "    <tr>\n",
       "      <th>2</th>\n",
       "      <td>The Ordinary Hyaluronic Acid 2% + B5 Hydration...</td>\n",
       "      <td>Moisturizer</td>\n",
       "      <td>1240</td>\n",
       "    </tr>\n",
       "    <tr>\n",
       "      <th>9</th>\n",
       "      <td>Clinique Moisture Surge 72 Hour Moisturiser 75ml</td>\n",
       "      <td>Moisturizer</td>\n",
       "      <td>7400</td>\n",
       "    </tr>\n",
       "    <tr>\n",
       "      <th>28</th>\n",
       "      <td>Estée Lauder DayWear Advanced Multi-Protection...</td>\n",
       "      <td>Moisturizer</td>\n",
       "      <td>8100</td>\n",
       "    </tr>\n",
       "    <tr>\n",
       "      <th>30</th>\n",
       "      <td>The Chemistry Brand Intense Youth Complex Hand...</td>\n",
       "      <td>Moisturizer</td>\n",
       "      <td>3798</td>\n",
       "    </tr>\n",
       "    <tr>\n",
       "      <th>34</th>\n",
       "      <td>Elemis Pro-Collagen Marine Cream SPF30 50ml</td>\n",
       "      <td>Moisturizer</td>\n",
       "      <td>17400</td>\n",
       "    </tr>\n",
       "  </tbody>\n",
       "</table>\n",
       "</div>"
      ],
      "text/plain": [
       "                                         product_name product_type  price_ksh\n",
       "2   The Ordinary Hyaluronic Acid 2% + B5 Hydration...  Moisturizer       1240\n",
       "9    Clinique Moisture Surge 72 Hour Moisturiser 75ml  Moisturizer       7400\n",
       "28  Estée Lauder DayWear Advanced Multi-Protection...  Moisturizer       8100\n",
       "30  The Chemistry Brand Intense Youth Complex Hand...  Moisturizer       3798\n",
       "34        Elemis Pro-Collagen Marine Cream SPF30 50ml  Moisturizer      17400"
      ]
     },
     "execution_count": 19,
     "metadata": {},
     "output_type": "execute_result"
    }
   ],
   "source": [
    "recommend_products(\"oily\", \"clogged pores\")\n",
    "recommend_products(\"sensitive\", \"irritation\")\n",
    "recommend_products(\"normal\", \"fine lines and wrinkles\")\n"
   ]
  },
  {
   "cell_type": "code",
   "execution_count": 20,
   "id": "12960f04-9470-4c82-ae09-7a6dd551adac",
   "metadata": {},
   "outputs": [],
   "source": [
    "user_skin_type = \"dry\"\n",
    "user_concern = \"dryness\"\n"
   ]
  },
  {
   "cell_type": "code",
   "execution_count": 21,
   "id": "9c48ea55-ea05-4e76-b11b-d6fc99b7bd7d",
   "metadata": {},
   "outputs": [],
   "source": [
    "recommendations = df[\n",
    "    df['skin_type_list'].apply(lambda x: user_skin_type in x) &\n",
    "    df['concerns_list'].apply(lambda x: user_concern in x)\n",
    "]\n"
   ]
  },
  {
   "cell_type": "code",
   "execution_count": 22,
   "id": "7344a50e-8433-42d2-92f9-61536ad2bdfe",
   "metadata": {},
   "outputs": [
    {
     "name": "stdout",
     "output_type": "stream",
     "text": [
      "Top Recommendations for You:\n",
      "\n",
      "                                        product_name product_type  price_ksh\n",
      "0  The Ordinary Natural Moisturising Factors + HA...  Moisturizer       1040\n",
      "1      CeraVe Facial Moisturising Lotion SPF 25 52ml  Moisturizer       2700\n",
      "2  The Ordinary Hyaluronic Acid 2% + B5 Hydration...  Moisturizer       1240\n",
      "3          AMELIORATE Transforming Body Lotion 200ml  Moisturizer       4500\n",
      "4                     CeraVe Moisturising Cream 454g  Moisturizer       3200\n",
      "5                   CeraVe Moisturising Lotion 473ml  Moisturizer       3000\n",
      "6      CeraVe Facial Moisturising Lotion No SPF 52ml  Moisturizer       2600\n",
      "7  The Ordinary Natural Moisturizing Factors + HA...  Moisturizer       1360\n",
      "8                       CeraVe Smoothing Cream 177ml  Moisturizer       2400\n",
      "9   Clinique Moisture Surge 72 Hour Moisturiser 75ml  Moisturizer       7400\n"
     ]
    }
   ],
   "source": [
    "print(\"Top Recommendations for You:\\n\")\n",
    "print(recommendations[['product_name', 'product_type', 'price_ksh']].head(10))\n"
   ]
  },
  {
   "cell_type": "code",
   "execution_count": 27,
   "id": "2db67b12-04e4-4c13-ab95-0a017a406e75",
   "metadata": {},
   "outputs": [],
   "source": [
    "\n",
    "def categorize_price(price):\n",
    "    if price <= 2500:\n",
    "        return \"0–2500 Ksh\"\n",
    "    elif 2500 < price <= 5000:\n",
    "        return \"2500–5000 Ksh\"\n",
    "    elif 5000 < price <= 10000:\n",
    "        return \"5000–10000 Ksh\"\n",
    "    else:\n",
    "        return \"Above 10000 Ksh\"\n",
    "\n",
    "df['price_range'] = df['price_ksh'].apply(categorize_price)"
   ]
  },
  {
   "cell_type": "code",
   "execution_count": 28,
   "id": "0dd2d603-c62d-420a-a8ed-fba3ebae632f",
   "metadata": {},
   "outputs": [],
   "source": [
    "user_skin_type = \"dry\"\n",
    "user_concern = \"dryness\"\n",
    "user_price_range = \"0–2500 Ksh\"  # Set to \"All\" if you want no filtering by price"
   ]
  },
  {
   "cell_type": "code",
   "execution_count": 29,
   "id": "22ae8974-dbae-4064-a2f7-f2c166a1b827",
   "metadata": {},
   "outputs": [],
   "source": [
    "filtered_df = df[\n",
    "    (df['skin_type_list'].apply(lambda x: user_skin_type in x)) &\n",
    "    (df['concerns_list'].apply(lambda x: user_concern in x))\n",
    "]\n"
   ]
  },
  {
   "cell_type": "code",
   "execution_count": 33,
   "id": "a70e7071-558c-49c5-be22-dbc311c5e7a9",
   "metadata": {},
   "outputs": [],
   "source": [
    "if user_price_range != \"All\":\n",
    "    filtered_df = filtered_df[filtered_df['price_range'] == user_price_range]"
   ]
  },
  {
   "cell_type": "code",
   "execution_count": 34,
   "id": "cf62afef-e716-4646-aedb-240c08edceb2",
   "metadata": {},
   "outputs": [
    {
     "name": "stdout",
     "output_type": "stream",
     "text": [
      "                                         product_name product_type  price_ksh\n",
      "0   The Ordinary Natural Moisturising Factors + HA...  Moisturizer       1040\n",
      "2   The Ordinary Hyaluronic Acid 2% + B5 Hydration...  Moisturizer       1240\n",
      "7   The Ordinary Natural Moisturizing Factors + HA...  Moisturizer       1360\n",
      "8                        CeraVe Smoothing Cream 177ml  Moisturizer       2400\n",
      "10                     CeraVe Moisturising Cream 50ml  Moisturizer        800\n"
     ]
    }
   ],
   "source": [
    "recommendations = filtered_df[['product_name', 'product_type', 'price_ksh']]\n",
    "print(recommendations.head())"
   ]
  },
  {
   "cell_type": "code",
   "execution_count": 51,
   "id": "b3978eb3-4fd3-4a8c-b9a1-0f6712c7a034",
   "metadata": {},
   "outputs": [],
   "source": [
    "concern_to_outcome = {\n",
    "    'dryness': ['hydration', 'moisturizing'],\n",
    "    'dullness': ['radiance'],\n",
    "    'fine lines and wrinkles': ['anti-aging'],\n",
    "    'uneven skin texture': ['smoother skin', 'exfoliating'],\n",
    "    'irritation': ['soothing'],\n",
    "    'excess oil': ['oil control'],\n",
    "    'clogged pores': ['deep cleansing'],\n",
    "    'hyperpigmentation': ['brightening', 'even skin tone'],\n",
    "    'damaged skin barrier': ['skin barrier repair'],\n",
    "    'puffiness': ['de-puffing'],\n",
    "    'sagging': ['firm skin', 'anti-aging'],\n",
    "    'dark circles': ['brightening'],\n",
    "    'acne': ['acne treatment'],\n",
    "    'redness': ['soothing'],\n",
    "    'sun damage': ['UV protection'],\n",
    "    'enlarged pores': ['pore minimizing'],\n",
    "    'stretch marks': ['moisturizing', 'exfoliating'],\n",
    "    'anti-bacterial': ['acne treatment']\n",
    "}\n"
   ]
  },
  {
   "cell_type": "code",
   "execution_count": 52,
   "id": "e6d2fcb3-3535-476a-87fb-c67ee40688b3",
   "metadata": {},
   "outputs": [],
   "source": [
    "from collections import defaultdict\n",
    "\n",
    "outcome_to_concerns = defaultdict(list)\n",
    "\n",
    "for concern, outcomes in concern_to_outcome.items():\n",
    "    for outcome in outcomes:\n",
    "        outcome_to_concerns[outcome].append(concern)\n"
   ]
  },
  {
   "cell_type": "code",
   "execution_count": 53,
   "id": "0cae1609-a3cc-4f67-abb7-3e628f0739cc",
   "metadata": {},
   "outputs": [
    {
     "name": "stdout",
     "output_type": "stream",
     "text": [
      "['dryness', 'stretch marks']\n"
     ]
    }
   ],
   "source": [
    "user_desired_outcome = \"moisturizing\"\n",
    "print(outcome_to_concerns[user_desired_outcome])\n"
   ]
  },
  {
   "cell_type": "code",
   "execution_count": 55,
   "id": "5b6b9501-d2b3-45b8-9076-5251fa900245",
   "metadata": {},
   "outputs": [],
   "source": [
    "df['concerns_list'] = df['concerns_list'].apply(lambda clist: [c.lower().strip() for c in clist])\n",
    "df['skin_type_list'] = df['skin_type_list'].apply(lambda slist: [s.lower().strip() for s in slist])\n"
   ]
  },
  {
   "cell_type": "code",
   "execution_count": 57,
   "id": "1b8259c1-efea-4b5a-a55d-8ae34ae2e8fc",
   "metadata": {},
   "outputs": [],
   "source": [
    "user_skin_type = \"dry\"\n",
    "user_desired_outcomes = [\"moisturizing\", \"hydration\"]  # Can be one or multiple outcomes\n",
    "user_price_range = \"0–2500 Ksh\"  # Or \"All\" for no price filter"
   ]
  },
  {
   "cell_type": "code",
   "execution_count": 58,
   "id": "09781943-6891-4723-a430-5b212bb635c6",
   "metadata": {},
   "outputs": [],
   "source": [
    "# Convert desired outcomes to relevant concerns\n",
    "matched_concerns = []\n",
    "for outcome in user_desired_outcomes:\n",
    "    matched_concerns.extend(outcome_to_concerns.get(outcome, []))"
   ]
  },
  {
   "cell_type": "code",
   "execution_count": 59,
   "id": "26056ac4-af0f-4693-9066-48c61bbf9f33",
   "metadata": {},
   "outputs": [],
   "source": [
    "# Filter by skin type and concerns\n",
    "recommendations = df[\n",
    "    df['skin_type_list'].apply(lambda x: user_skin_type in x) &\n",
    "    df['concerns_list'].apply(lambda clist: any(c in clist for c in matched_concerns))\n",
    "]"
   ]
  },
  {
   "cell_type": "code",
   "execution_count": 60,
   "id": "4089b7d5-e4f8-45b2-bd22-43f9ca8b85df",
   "metadata": {},
   "outputs": [],
   "source": [
    "# Apply price range filter if selected\n",
    "if user_price_range != \"All\":\n",
    "    min_price, max_price = map(int, user_price_range.replace(\"Ksh\", \"\").split(\"–\"))\n",
    "    recommendations = recommendations[\n",
    "        (recommendations['price_ksh'] >= min_price) &\n",
    "        (recommendations['price_ksh'] <= max_price)\n",
    "    ]"
   ]
  },
  {
   "cell_type": "code",
   "execution_count": 62,
   "id": "6c8cbc9b-07a2-4edf-bc99-2cd90a59be49",
   "metadata": {},
   "outputs": [
    {
     "name": "stdout",
     "output_type": "stream",
     "text": [
      "                                          product_name product_type  price_ksh\n",
      "0    The Ordinary Natural Moisturising Factors + HA...  Moisturizer       1040\n",
      "2    The Ordinary Hyaluronic Acid 2% + B5 Hydration...  Moisturizer       1240\n",
      "7    The Ordinary Natural Moisturizing Factors + HA...  Moisturizer       1360\n",
      "8                         CeraVe Smoothing Cream 177ml  Moisturizer       2400\n",
      "10                      CeraVe Moisturising Cream 50ml  Moisturizer        800\n",
      "..                                                 ...          ...        ...\n",
      "580  Sukin Energising Body Scrub with Coffee and Co...   Face scrub       2390\n",
      "587  Sanctuary Spa Complexion Perfecting Radiance E...   Face scrub       2000\n",
      "597  L'Oréal Paris Smooth Sugars Nourishing Sugar S...   Face scrub       1598\n",
      "612  Beauty of Joseon Relief Sun Sunscreen SPF 50+ ...     suncreen       2300\n",
      "614  Dr. Rashel Anti-Aging & Moisture Sun Cream SPF...     suncreen        700\n",
      "\n",
      "[109 rows x 3 columns]\n"
     ]
    }
   ],
   "source": [
    "\n",
    "print(recommendations[['product_name', 'product_type', 'price_ksh']])"
   ]
  },
  {
   "cell_type": "code",
   "execution_count": null,
   "id": "5ac0ff8c-4c43-4e0b-bb95-346b5dbfe56c",
   "metadata": {},
   "outputs": [],
   "source": []
  }
 ],
 "metadata": {
  "kernelspec": {
   "display_name": "Python 3 (ipykernel)",
   "language": "python",
   "name": "python3"
  },
  "language_info": {
   "codemirror_mode": {
    "name": "ipython",
    "version": 3
   },
   "file_extension": ".py",
   "mimetype": "text/x-python",
   "name": "python",
   "nbconvert_exporter": "python",
   "pygments_lexer": "ipython3",
   "version": "3.12.2"
  }
 },
 "nbformat": 4,
 "nbformat_minor": 5
}
